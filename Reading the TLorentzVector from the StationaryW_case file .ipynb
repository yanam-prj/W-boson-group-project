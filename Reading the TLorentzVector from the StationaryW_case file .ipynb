{
 "cells": [
  {
   "cell_type": "markdown",
   "id": "quantitative-mills",
   "metadata": {},
   "source": [
    "# 22/02/2021"
   ]
  },
  {
   "cell_type": "code",
   "execution_count": 1,
   "id": "encouraging-effects",
   "metadata": {},
   "outputs": [
    {
     "name": "stdout",
     "output_type": "stream",
     "text": [
      "Welcome to JupyROOT 6.22/02\n"
     ]
    }
   ],
   "source": [
    "import ROOT as r\n",
    "import numpy as np"
   ]
  },
  {
   "cell_type": "code",
   "execution_count": 2,
   "id": "placed-hours",
   "metadata": {},
   "outputs": [],
   "source": [
    "# Now we create the file and put both trees into it\n",
    "file = r.TFile(\"stationaryW_case.root\",\"recreate\")"
   ]
  },
  {
   "cell_type": "markdown",
   "id": "compliant-spectrum",
   "metadata": {},
   "source": [
    "I am creating two trees. \n",
    "\n",
    "One for the momenta components of electron called `e` and one for neutrino called `n`.\n",
    "\n",
    "Each tree will have 4 branches for `Px`,`Py`,`Pz` and `E`."
   ]
  },
  {
   "cell_type": "code",
   "execution_count": 3,
   "id": "excessive-female",
   "metadata": {},
   "outputs": [],
   "source": [
    "e = r.TTree(\"e\", \"electronTree\")\n",
    "n = r.TTree(\"n\", \"neutrinoTree\")"
   ]
  },
  {
   "cell_type": "markdown",
   "id": "alleged-thought",
   "metadata": {},
   "source": [
    "Now I will use the `TLorentzVector` function to generate the data. In this case it is not necessary I suppose, but afterwards, once we need to use `boost` or other things, it will be better if we start with `TLorentzVector` now already."
   ]
  },
  {
   "cell_type": "code",
   "execution_count": 4,
   "id": "injured-chester",
   "metadata": {},
   "outputs": [],
   "source": [
    "# Function to generate initial random momentum components for electron\n",
    "def elMomComponents(mag):\n",
    "    ''' chooses random theta and phi and then uses it to calculate \n",
    "        initial random components of electron momentum\n",
    "        \n",
    "        Input:\n",
    "        mag    magnitude of the momentum\n",
    "        \n",
    "        Returns:\n",
    "        Px\n",
    "        Py\n",
    "        Pz\n",
    "    '''\n",
    "    theta = np.random.uniform(0,np.pi)\n",
    "    phi = np.random.uniform(0,2*np.pi)\n",
    "    \n",
    "    Px = mag * np.sin(theta) * np.cos(phi) \n",
    "    Py = mag * np.sin(theta) * np.sin(phi)\n",
    "    Pz = mag * np.cos(theta)\n",
    "    \n",
    "    return Px, Py, Pz"
   ]
  },
  {
   "cell_type": "code",
   "execution_count": 5,
   "id": "emerging-reason",
   "metadata": {},
   "outputs": [],
   "source": [
    "# Setting up 4Vectors for electron and neutrino\n",
    "e4Vect = r.TLorentzVector() #electron\n",
    "n4Vect = r.TLorentzVector() #neutrino"
   ]
  },
  {
   "cell_type": "code",
   "execution_count": 6,
   "id": "exterior-rwanda",
   "metadata": {},
   "outputs": [],
   "source": [
    "# Invariant mass of W boson\n",
    "massW = 80.3 # Gev/c^2\n",
    "\n",
    "# energy split equaly in the decay -> massW/2\n",
    "productE = massW/2"
   ]
  },
  {
   "cell_type": "code",
   "execution_count": 7,
   "id": "excellent-venice",
   "metadata": {},
   "outputs": [],
   "source": [
    "# Setting up the variables, so we can set up branches, where we store them\n",
    "ePx = np.array([e4Vect.Px()])\n",
    "ePy = np.array([e4Vect.Py()])\n",
    "ePz = np.array([e4Vect.Pz()])\n",
    "eE = np.array([productE])"
   ]
  },
  {
   "cell_type": "code",
   "execution_count": 8,
   "id": "metallic-silence",
   "metadata": {},
   "outputs": [
    {
     "data": {
      "text/plain": [
       "<cppyy.gbl.TBranch object at 0x661d7d0>"
      ]
     },
     "execution_count": 8,
     "metadata": {},
     "output_type": "execute_result"
    }
   ],
   "source": [
    "# Setting up branches to store components of electron momenta \n",
    "# (each component is placed separately on each branch)\n",
    "e.Branch(\"Px\",ePx,\"xComponent[1]/D\")\n",
    "e.Branch(\"Py\",ePy,\"yComponent[1]/D\")\n",
    "e.Branch(\"Pz\",ePz,\"zComponent[1]/D\")\n",
    "e.Branch(\"E\",eE,\"energy[1]/D\")"
   ]
  },
  {
   "cell_type": "code",
   "execution_count": 9,
   "id": "fluid-rabbit",
   "metadata": {},
   "outputs": [],
   "source": [
    "# Function to generate 4vector and splits it into different branches\n",
    "def elMomFill(j, mag, m):\n",
    "    ''' Uses function elMomComponents to generate random values\n",
    "        of momenta components with given magnitude of the vector.\n",
    "        Then it uses TLorentzVector to fill the branch of electron momenta components\n",
    "        with these randomly generated values.\n",
    "        \n",
    "        Input:\n",
    "        j     number of generated momenta\n",
    "        mag   magnitude of generated momenta \n",
    "        m     energy of the particle\n",
    "    '''\n",
    "    \n",
    "    for i in range(j):\n",
    "        Px, Py, Pz = elMomComponents(mag)\n",
    "        e4Vect.SetPxPyPzE(Px, Py, Pz, m)\n",
    "\n",
    "        # Mass won't change, so we do not need it here\n",
    "        ePx[0] = e4Vect.Px()\n",
    "        ePy[0] = e4Vect.Py()\n",
    "        ePz[0] = e4Vect.Pz()\n",
    "        eE[0] = e4Vect.E()\n",
    "\n",
    "        e.Fill()"
   ]
  },
  {
   "cell_type": "code",
   "execution_count": 10,
   "id": "frank-cooper",
   "metadata": {},
   "outputs": [],
   "source": [
    "elMomFill(3,1,productE)"
   ]
  },
  {
   "cell_type": "code",
   "execution_count": 11,
   "id": "united-image",
   "metadata": {},
   "outputs": [
    {
     "data": {
      "text/plain": [
       "3"
      ]
     },
     "execution_count": 11,
     "metadata": {},
     "output_type": "execute_result"
    },
    {
     "name": "stdout",
     "output_type": "stream",
     "text": [
      "************************************************************\n",
      "*    Row   *        Px *        Py *        Pz *         E *\n",
      "************************************************************\n",
      "*        0 * -0.932665 * -0.050281 * -0.357221 *     40.15 *\n",
      "*        1 * 0.4708793 * -0.563725 * -0.678591 *     40.15 *\n",
      "*        2 * 0.4350746 * -0.303448 * 0.8477198 *     40.15 *\n",
      "************************************************************\n"
     ]
    }
   ],
   "source": [
    "e.Scan(\"Px:Py:Pz:E\")"
   ]
  },
  {
   "cell_type": "code",
   "execution_count": 12,
   "id": "julian-choir",
   "metadata": {},
   "outputs": [
    {
     "name": "stdout",
     "output_type": "stream",
     "text": [
      "Nice!\n"
     ]
    }
   ],
   "source": [
    "print(\"Nice!\")"
   ]
  },
  {
   "cell_type": "markdown",
   "id": "challenging-mention",
   "metadata": {},
   "source": [
    "Now we will calculate the neutrino momenta.\n",
    "\n",
    "If I understand it correctly:\n",
    "$$ 80.3^2 = (E_e + E_{\\nu})^2 - \\lvert \\sum \\textbf{p} \\rvert ^2  $$\n",
    "\n",
    "$$ 80.3^2 = 80.3^2 - (p_z + p_{z\\nu})^2 $$\n",
    "\n",
    "$$ p_{z\\nu}^2 + 2p_zp_{z\\nu} + p_z^2 = 0 $$\n",
    "\n",
    "$$ p_{z\\nu} = - p_z $$\n",
    "\n",
    "So in the stationary W case, electron and neutrino will start moving back to back, so the spatial components will be the same but will have opposite sign?\n",
    "\n",
    "In that case we can use this to set up another tree with neutrino components:"
   ]
  },
  {
   "cell_type": "code",
   "execution_count": 13,
   "id": "frank-accent",
   "metadata": {},
   "outputs": [],
   "source": [
    "# Setting up the variables, so we can set up branches, where we store them\n",
    "nPx = np.array([n4Vect.Px()])\n",
    "nPy = np.array([n4Vect.Py()])\n",
    "nPz = np.array([n4Vect.Pz()])\n",
    "nE = np.array([productE])"
   ]
  },
  {
   "cell_type": "code",
   "execution_count": 14,
   "id": "temporal-whale",
   "metadata": {},
   "outputs": [
    {
     "data": {
      "text/plain": [
       "<cppyy.gbl.TBranch object at 0x6738f40>"
      ]
     },
     "execution_count": 14,
     "metadata": {},
     "output_type": "execute_result"
    }
   ],
   "source": [
    "# Setting up branches to store components of neutrino momenta \n",
    "# (each component is placed separately on each branch)\n",
    "n.Branch(\"Px\",nPx,\"xComponent[1]/D\")\n",
    "n.Branch(\"Py\",nPy,\"yComponent[1]/D\")\n",
    "n.Branch(\"Pz\",nPz,\"zComponent[1]/D\")\n",
    "n.Branch(\"E\",nE,\"energy[1]/D\")"
   ]
  },
  {
   "cell_type": "code",
   "execution_count": 15,
   "id": "focused-conviction",
   "metadata": {},
   "outputs": [
    {
     "data": {
      "text/plain": [
       "3"
      ]
     },
     "execution_count": 15,
     "metadata": {},
     "output_type": "execute_result"
    }
   ],
   "source": [
    "# Finding number of entries in the electron tree\n",
    "e.GetEntries()"
   ]
  },
  {
   "cell_type": "code",
   "execution_count": 16,
   "id": "purple-female",
   "metadata": {},
   "outputs": [],
   "source": [
    "def neuMomGenerator():\n",
    "    ''' Generates neutrino momenta components for back to back case\n",
    "        and fills them into neutrino tree. \n",
    "        Same result as elMomGenerator().\n",
    "    '''\n",
    "    for entry in e:\n",
    "        x = -entry.Px\n",
    "        y = -entry.Py\n",
    "        z = -entry.Pz\n",
    "        varE = entry.E\n",
    "\n",
    "        n4Vect.SetPxPyPzE(x,y,z,varE) #Changing TLorentzVector for neutrino\n",
    "\n",
    "        nPx[0] = n4Vect.Px()\n",
    "        nPy[0] = n4Vect.Py()\n",
    "        nPz[0] = n4Vect.Pz()\n",
    "        nE[0] = n4Vect.E()\n",
    "\n",
    "        n.Fill()"
   ]
  },
  {
   "cell_type": "code",
   "execution_count": 17,
   "id": "challenging-restoration",
   "metadata": {},
   "outputs": [],
   "source": [
    "# Calling the function\n",
    "neuMomGenerator()"
   ]
  },
  {
   "cell_type": "markdown",
   "id": "abandoned-parameter",
   "metadata": {},
   "source": [
    "Now we can look at how the tree looks like."
   ]
  },
  {
   "cell_type": "code",
   "execution_count": 18,
   "id": "psychological-outline",
   "metadata": {},
   "outputs": [
    {
     "data": {
      "text/plain": [
       "3"
      ]
     },
     "execution_count": 18,
     "metadata": {},
     "output_type": "execute_result"
    },
    {
     "name": "stdout",
     "output_type": "stream",
     "text": [
      "************************************************************\n",
      "*    Row   *        Px *        Py *        Pz *         E *\n",
      "************************************************************\n",
      "*        0 * -0.932665 * -0.050281 * -0.357221 *     40.15 *\n",
      "*        1 * 0.4708793 * -0.563725 * -0.678591 *     40.15 *\n",
      "*        2 * 0.4350746 * -0.303448 * 0.8477198 *     40.15 *\n",
      "************************************************************\n",
      "************************************************************\n",
      "*    Row   *        Px *        Py *        Pz *         E *\n",
      "************************************************************\n",
      "*        0 * 0.9326654 * 0.0502817 * 0.3572210 *     40.15 *\n",
      "*        1 * -0.470879 * 0.5637255 * 0.6785912 *     40.15 *\n",
      "*        2 * -0.435074 * 0.3034485 * -0.847719 *     40.15 *\n",
      "************************************************************\n"
     ]
    }
   ],
   "source": [
    "e.Scan(\"Px:Py:Pz:E\")\n",
    "n.Scan(\"Px:Py:Pz:E\")"
   ]
  },
  {
   "cell_type": "code",
   "execution_count": 19,
   "id": "fossil-split",
   "metadata": {},
   "outputs": [],
   "source": [
    "file.Write()\n",
    "file.Close()"
   ]
  },
  {
   "cell_type": "markdown",
   "id": "imported-praise",
   "metadata": {},
   "source": [
    "This looks like it could be right and we can check with these values if we decide to read the `stationaryW_case.root` file. Now let's figure out how to read this."
   ]
  },
  {
   "cell_type": "markdown",
   "id": "circular-orange",
   "metadata": {},
   "source": [
    "# Reading the File - Mirei\n",
    "\n",
    "The above is the code I received from Pavel. The only thing I changed above is that I moved the file creating to the beginning. \n",
    "Below is the code I have written to read TLorentzVectors from a file. \n",
    "\n",
    "Firstly, I just imported the functions. (Pavel imported ROOT as r, but I preferred to write 'root')"
   ]
  },
  {
   "cell_type": "code",
   "execution_count": 20,
   "id": "enhanced-operations",
   "metadata": {},
   "outputs": [],
   "source": [
    "import ROOT as root\n",
    "import numpy as np\n",
    "from ROOT import TLorentzVector"
   ]
  },
  {
   "cell_type": "markdown",
   "id": "authentic-mayor",
   "metadata": {},
   "source": [
    "Then I open the File Pavel created and retrieve the data from the tree called 'e'.\n",
    "To retrieve the data for the tree 'n', you can just change the 'e' to 'n'."
   ]
  },
  {
   "cell_type": "code",
   "execution_count": 21,
   "id": "controlled-austria",
   "metadata": {},
   "outputs": [],
   "source": [
    "f=root.TFile.Open(\"stationaryW_case.root\",\"READ\") \n",
    "tree=f.Get(\"e\") # where e is the treename\n"
   ]
  },
  {
   "cell_type": "markdown",
   "id": "incorporate-leader",
   "metadata": {},
   "source": [
    "Next, I wasn't sure what the tree 'leaves' were called so I wrote a code to get the leaf names so that I can extract the data from appropriate leaves in order. This is done because I don't think you can just wholly get the data just from the tree. "
   ]
  },
  {
   "cell_type": "code",
   "execution_count": 22,
   "id": "molecular-expert",
   "metadata": {},
   "outputs": [],
   "source": [
    "leaves = tree.GetListOfLeaves()\n",
    "\n",
    "# define dynamically a python class containing root Leaves objects\n",
    "class PyListOfLeaves(dict) :\n",
    "    pass\n",
    "\n",
    "# create an istance\n",
    "pyl = PyListOfLeaves()"
   ]
  },
  {
   "cell_type": "markdown",
   "id": "individual-elephant",
   "metadata": {},
   "source": [
    "And as you can see below, the tree leaf name is outputted"
   ]
  },
  {
   "cell_type": "code",
   "execution_count": 23,
   "id": "level-shelf",
   "metadata": {},
   "outputs": [
    {
     "name": "stdout",
     "output_type": "stream",
     "text": [
      "xComponent\n",
      "yComponent\n",
      "zComponent\n",
      "energy\n"
     ]
    }
   ],
   "source": [
    "for i in range(0,leaves.GetEntries() ) :\n",
    "    leaf = leaves.At(i)\n",
    "    name = leaf.GetName()\n",
    "    print(name)\n",
    "    # add dynamically attribute to my class \n",
    "    pyl.__setattr__(name,leaf)"
   ]
  },
  {
   "cell_type": "markdown",
   "id": "preceding-increase",
   "metadata": {},
   "source": [
    "Then I extracted the data by looping through each leaf in the TLorentzVector. I put the extracted data into an array."
   ]
  },
  {
   "cell_type": "code",
   "execution_count": 24,
   "id": "comparative-tuning",
   "metadata": {},
   "outputs": [
    {
     "name": "stdout",
     "output_type": "stream",
     "text": [
      "[(-0.9326654560616809, -0.05028174874714363, -0.35722106994434943, 40.15), (0.4708793779444828, -0.563725536037116, -0.678591284534574, 40.15), (0.43507467855000875, -0.30344852135453076, 0.8477198941704479, 40.15)]\n"
     ]
    }
   ],
   "source": [
    "vector=[]\n",
    "nev=tree.GetEntries() #number of TLorentzVectors in the tree 'e'\n",
    "for iev in range(0,nev) :\n",
    "    tree.GetEntry(iev)\n",
    "    # get values from the tree using Python class pyl which contains leaves\n",
    "    # objects \n",
    "    px = pyl.xComponent.GetValue()\n",
    "    py = pyl.yComponent.GetValue()\n",
    "    pz = pyl.zComponent.GetValue()\n",
    "    Energy=pyl.energy.GetValue()\n",
    "    \n",
    "    vector.append((px,py,pz,Energy))\n",
    "    if iev == 10:\n",
    "        break\n",
    "        \n",
    "print(vector)"
   ]
  },
  {
   "cell_type": "code",
   "execution_count": null,
   "id": "guided-method",
   "metadata": {},
   "outputs": [],
   "source": []
  }
 ],
 "metadata": {
  "kernelspec": {
   "display_name": "Python 3",
   "language": "python",
   "name": "python3"
  },
  "language_info": {
   "codemirror_mode": {
    "name": "ipython",
    "version": 3
   },
   "file_extension": ".py",
   "mimetype": "text/x-python",
   "name": "python",
   "nbconvert_exporter": "python",
   "pygments_lexer": "ipython3",
   "version": "3.8.5"
  }
 },
 "nbformat": 4,
 "nbformat_minor": 5
}
